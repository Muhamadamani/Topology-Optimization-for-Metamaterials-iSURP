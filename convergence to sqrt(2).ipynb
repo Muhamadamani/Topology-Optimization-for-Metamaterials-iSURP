{
 "cells": [
  {
   "cell_type": "markdown",
   "metadata": {},
   "source": [
    "Consider the sequence $ x_{n+1}=\\frac{1}{2}(x_n + \\frac{2}{x_n}) $ with $x_1$ equal to any number of your wish. I will show that the sequence converges to $\\sqrt{2}$ for any $x_1$"
   ]
  },
  {
   "cell_type": "code",
   "execution_count": 1,
   "metadata": {},
   "outputs": [],
   "source": [
    "import numpy as np"
   ]
  },
  {
   "cell_type": "code",
   "execution_count": 2,
   "metadata": {},
   "outputs": [
    {
     "name": "stdout",
     "output_type": "stream",
     "text": [
      "1.414213562373095\n"
     ]
    }
   ],
   "source": [
    "# first we will construct any random number x1 on the positive real axis\n",
    "dummy = np.random.random() # a dummy variable in (0,1)\n",
    "x1 = -(np.log(dummy))\n",
    "\n",
    "x = x1\n",
    "for i in range(1,100000): \n",
    "    x = x/2 + 1/x\n",
    "    \n",
    "\n",
    "# now x is the limit of the sequence as n tends to infinity\n",
    "print(x)"
   ]
  }
 ],
 "metadata": {
  "kernelspec": {
   "display_name": "Python 3",
   "language": "python",
   "name": "python3"
  },
  "language_info": {
   "codemirror_mode": {
    "name": "ipython",
    "version": 3
   },
   "file_extension": ".py",
   "mimetype": "text/x-python",
   "name": "python",
   "nbconvert_exporter": "python",
   "pygments_lexer": "ipython3",
   "version": "3.7.4"
  }
 },
 "nbformat": 4,
 "nbformat_minor": 2
}
