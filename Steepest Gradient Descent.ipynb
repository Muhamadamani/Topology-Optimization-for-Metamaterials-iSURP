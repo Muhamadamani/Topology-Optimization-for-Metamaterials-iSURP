{
 "cells": [
  {
   "cell_type": "code",
   "execution_count": 1,
   "metadata": {},
   "outputs": [],
   "source": [
    "import matplotlib.pyplot as plt\n",
    "import numpy as np\n",
    "%matplotlib inline"
   ]
  },
  {
   "cell_type": "markdown",
   "metadata": {},
   "source": [
    "Given any continuous and differentiable function $f$ onto $\\mathbb{R}$"
   ]
  },
  {
   "cell_type": "code",
   "execution_count": 2,
   "metadata": {},
   "outputs": [],
   "source": [
    "def f(x):\n",
    "    return x*(x-5)*(x-10)"
   ]
  },
  {
   "cell_type": "markdown",
   "metadata": {},
   "source": [
    "Derivative Parameter $h$"
   ]
  },
  {
   "cell_type": "code",
   "execution_count": 3,
   "metadata": {},
   "outputs": [],
   "source": [
    "def h(x):\n",
    "    return 0.00001"
   ]
  },
  {
   "cell_type": "markdown",
   "metadata": {},
   "source": [
    "compute Left-Hand derivative"
   ]
  },
  {
   "cell_type": "code",
   "execution_count": 4,
   "metadata": {},
   "outputs": [],
   "source": [
    "def LHD(x):\n",
    "    return (f(x) - f(x - h(x))) / h(x)"
   ]
  },
  {
   "cell_type": "markdown",
   "metadata": {},
   "source": [
    "compute Right-Hand derivative"
   ]
  },
  {
   "cell_type": "code",
   "execution_count": 5,
   "metadata": {},
   "outputs": [],
   "source": [
    "def RHD(x):\n",
    "    return (f(x + h(x)) - f(x)) / h(x)"
   ]
  },
  {
   "cell_type": "markdown",
   "metadata": {},
   "source": [
    "compute Total derivative"
   ]
  },
  {
   "cell_type": "code",
   "execution_count": 6,
   "metadata": {},
   "outputs": [],
   "source": [
    "def TD(x):\n",
    "    return (LHD(x) + RHD(x)) / 2"
   ]
  },
  {
   "cell_type": "markdown",
   "metadata": {},
   "source": [
    "Gradient-Descent Parameter $\\alpha$"
   ]
  },
  {
   "cell_type": "code",
   "execution_count": 7,
   "metadata": {},
   "outputs": [],
   "source": [
    "def alpha(x):\n",
    "    return 0.001"
   ]
  },
  {
   "cell_type": "markdown",
   "metadata": {},
   "source": [
    "To find Local Minima around $ x = x_0 $"
   ]
  },
  {
   "cell_type": "code",
   "execution_count": 8,
   "metadata": {},
   "outputs": [
    {
     "name": "stdout",
     "output_type": "stream",
     "text": [
      "x0 = \n",
      "7\n",
      "Local minima of f around 7.0 is at 7.8867456528331985\n"
     ]
    },
    {
     "data": {
      "text/plain": [
       "[<matplotlib.lines.Line2D at 0x7fd6b06c9610>]"
      ]
     },
     "execution_count": 8,
     "metadata": {},
     "output_type": "execute_result"
    },
    {
     "data": {
      "image/png": "[encoded data removed]",
      "text/plain": [
       "<Figure size 432x288 with 1 Axes>"
      ]
     },
     "metadata": {
      "needs_background": "light"
     },
     "output_type": "display_data"
    }
   ],
   "source": [
    "x_list = []\n",
    "fx_list = []\n",
    "\n",
    "print(\"x0 = \")\n",
    "x0 = float(input())\n",
    "\n",
    "x = x0\n",
    "\n",
    "while(abs(TD(x)) > 0.0001):\n",
    "    x_list.append(x)\n",
    "    fx_list.append(f(x))\n",
    "    x -= (alpha(x))*(TD(x))\n",
    "    \n",
    "print(\"Local minima of f around\", x0, \"is at\",x)\n",
    "\n",
    "plt.plot(x_list, fx_list)\n",
    "plt.plot(x,f(x))"
   ]
  },
  {
   "cell_type": "markdown",
   "metadata": {},
   "source": [
    "To find Local Maxima around $ x = x_0 $"
   ]
  },
  {
   "cell_type": "code",
   "execution_count": 9,
   "metadata": {},
   "outputs": [
    {
     "name": "stdout",
     "output_type": "stream",
     "text": [
      "x0 = \n",
      "7\n",
      "Local maxima of f around 7.0 is at 2.1132543547109846\n"
     ]
    },
    {
     "data": {
      "text/plain": [
       "[<matplotlib.lines.Line2D at 0x7fd6b06c2290>]"
      ]
     },
     "execution_count": 9,
     "metadata": {},
     "output_type": "execute_result"
    },
    {
     "data": {
      "image/png": "[encoded data removed]",
      "text/plain": [
       "<Figure size 432x288 with 1 Axes>"
      ]
     },
     "metadata": {
      "needs_background": "light"
     },
     "output_type": "display_data"
    }
   ],
   "source": [
    "x_list = []\n",
    "fx_list = []\n",
    "\n",
    "print(\"x0 = \")\n",
    "x0 = float(input())\n",
    "\n",
    "x = x0\n",
    "\n",
    "while(abs(TD(x)) > 0.0001):\n",
    "    x_list.append(x)\n",
    "    fx_list.append(f(x))\n",
    "    x += (alpha(x))*(TD(x))\n",
    "    \n",
    "print(\"Local maxima of f around\", x0, \"is at\",x)\n",
    "\n",
    "plt.plot(x_list, fx_list)\n",
    "plt.plot(x,f(x))"
   ]
  },
  {
   "cell_type": "markdown",
   "metadata": {},
   "source": [
    "To find local minima in $x \\epsilon (-100, 100)$"
   ]
  },
  {
   "cell_type": "code",
   "execution_count": 10,
   "metadata": {},
   "outputs": [
    {
     "name": "stdout",
     "output_type": "stream",
     "text": [
      "Local minima at x = [7.88669439218961]\n",
      "Local maxima at x = [2.113191275971027]\n"
     ]
    },
    {
     "data": {
      "text/plain": [
       "Text(0.5, 1.0, 'plot of f versus x')"
      ]
     },
     "execution_count": 10,
     "metadata": {},
     "output_type": "execute_result"
    },
    {
     "data": {
      "image/png": "[encoded data removed]",
      "text/plain": [
       "<Figure size 432x288 with 1 Axes>"
      ]
     },
     "metadata": {
      "needs_background": "light"
     },
     "output_type": "display_data"
    }
   ],
   "source": [
    "x_list = []\n",
    "fx_list = []\n",
    "\n",
    "x_minima = []\n",
    "x_maxima = []\n",
    "\n",
    "x0 = -100\n",
    "x = x0\n",
    "\n",
    "if TD(x0) < 0:\n",
    "    while(x < 100):\n",
    "        while(abs(TD(x)) > 0.001 and x < 100):\n",
    "            x_list.append(x)\n",
    "            fx_list.append(f(x))\n",
    "            x -= (alpha(x))*(TD(x))\n",
    "    \n",
    "        x_minima.append(x)\n",
    "        x+=0.5\n",
    "        while(abs(TD(x)) > 0.001 and x < 100):\n",
    "            x_list.append(x)\n",
    "            fx_list.append(f(x))\n",
    "            x += (alpha(x))*(TD(x))\n",
    "        \n",
    "        x_maxima.append(x)\n",
    "        x+=0.5\n",
    "\n",
    "if TD(x0) > 0:\n",
    "    while(x < 100):\n",
    "        while(abs(TD(x)) > 0.001 and x < 100):\n",
    "            x_list.append(x)\n",
    "            fx_list.append(f(x))\n",
    "            x += (alpha(x))*(TD(x))\n",
    "        \n",
    "        x_maxima.append(x)\n",
    "        x+=0.5\n",
    "        \n",
    "        while(abs(TD(x)) > 0.001 and x < 100):\n",
    "            x_list.append(x)\n",
    "            fx_list.append(f(x))\n",
    "            x -= (alpha(x))*(TD(x))\n",
    "    \n",
    "        x_minima.append(x)\n",
    "        x+=0.5\n",
    "\n",
    "for element in x_minima:\n",
    "    if element > 100:\n",
    "        x_minima.remove(element)\n",
    "for element in x_maxima:\n",
    "    if element > 100:\n",
    "        x_maxima.remove(element)\n",
    "print(\"Local minima at x =\", x_minima)\n",
    "print(\"Local maxima at x =\", x_maxima)\n",
    "\n",
    "plt.plot(x_list, fx_list)\n",
    "plt.title(\"plot of f versus x\")"
   ]
  }
 ],
 "metadata": {
  "kernelspec": {
   "display_name": "Python 3",
   "language": "python",
   "name": "python3"
  },
  "language_info": {
   "codemirror_mode": {
    "name": "ipython",
    "version": 3
   },
   "file_extension": ".py",
   "mimetype": "text/x-python",
   "name": "python",
   "nbconvert_exporter": "python",
   "pygments_lexer": "ipython3",
   "version": "3.7.4"
  }
 },
 "nbformat": 4,
 "nbformat_minor": 2
}
