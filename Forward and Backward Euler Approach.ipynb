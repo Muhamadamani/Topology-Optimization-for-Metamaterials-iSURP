{
 "cells": [
  {
   "cell_type": "code",
   "execution_count": 1,
   "metadata": {},
   "outputs": [],
   "source": [
    "from pylab import *\n",
    "import numpy as np\n",
    "import matplotlib.pyplot as plt\n",
    "%matplotlib inline"
   ]
  },
  {
   "cell_type": "markdown",
   "metadata": {},
   "source": [
    "I will demonstrate the two Euler Approaches to numerically solve for $x(t)$ in $ \\frac{dx}{dt} = f(x) $"
   ]
  },
  {
   "cell_type": "code",
   "execution_count": 2,
   "metadata": {},
   "outputs": [],
   "source": [
    "x_0 = 1 \n",
    "dt = 0.1\n",
    "\n",
    "def f(x):\n",
    "    k = 0.1\n",
    "    return k*x"
   ]
  },
  {
   "cell_type": "markdown",
   "metadata": {},
   "source": [
    "## Forward Euler Method"
   ]
  },
  {
   "cell_type": "code",
   "execution_count": 3,
   "metadata": {},
   "outputs": [
    {
     "data": {
      "text/plain": [
       "[<matplotlib.lines.Line2D at 0x7ff08a640c50>]"
      ]
     },
     "execution_count": 3,
     "metadata": {},
     "output_type": "execute_result"
    },
    {
     "data": {
      "image/png": "[encoded data removed]",
      "text/plain": [
       "<Figure size 432x288 with 1 Axes>"
      ]
     },
     "metadata": {
      "needs_background": "light"
     },
     "output_type": "display_data"
    }
   ],
   "source": [
    "x = x_0\n",
    "t = 0\n",
    "t_list1 = []\n",
    "x_list1 = []\n",
    "for i in range(1000):\n",
    "    t_list1.append(t)\n",
    "    x_list1.append(x) \n",
    "    \n",
    "    x += dt*f(x)\n",
    "    t += dt\n",
    "    \n",
    "x = x_0\n",
    "t = 0\n",
    "for i in range(1000):\n",
    "    t_list1.insert(0,t)\n",
    "    x_list1.insert(0,x)\n",
    "    \n",
    "    x -= dt*f(x)\n",
    "    t -= dt\n",
    "    \n",
    "plt.plot(t_list1, x_list1, 'b')\n",
    "#plt.ylim(-2,2)"
   ]
  },
  {
   "cell_type": "markdown",
   "metadata": {},
   "source": [
    "## Backward Euler Method"
   ]
  },
  {
   "cell_type": "code",
   "execution_count": 4,
   "metadata": {},
   "outputs": [
    {
     "data": {
      "text/plain": [
       "[<matplotlib.lines.Line2D at 0x7ff08a7c5910>]"
      ]
     },
     "execution_count": 4,
     "metadata": {},
     "output_type": "execute_result"
    },
    {
     "data": {
      "image/png": "[encoded data removed]",
      "text/plain": [
       "<Figure size 432x288 with 1 Axes>"
      ]
     },
     "metadata": {
      "needs_background": "light"
     },
     "output_type": "display_data"
    }
   ],
   "source": [
    "x = x_0\n",
    "t = 0\n",
    "t_list2 = []\n",
    "x_list2 = []\n",
    "for i in range(1000):\n",
    "    t_list2.insert(0, t)\n",
    "    x_list2.insert(0, x) \n",
    "    \n",
    "    x -= dt*f(x)\n",
    "    t -= dt\n",
    "    \n",
    "x = x_0\n",
    "t = 0\n",
    "for i in range(1000):\n",
    "    t_list2.append(t)\n",
    "    x_list2.append(x)\n",
    "    \n",
    "    x += dt*f(x)\n",
    "    t += dt\n",
    "    \n",
    "plt.plot(t_list2, x_list2, 'y')"
   ]
  },
  {
   "cell_type": "markdown",
   "metadata": {},
   "source": [
    "Combining the above 2 plots"
   ]
  },
  {
   "cell_type": "code",
   "execution_count": 5,
   "metadata": {},
   "outputs": [
    {
     "data": {
      "text/plain": [
       "<matplotlib.legend.Legend at 0x7ff08a91a2d0>"
      ]
     },
     "execution_count": 5,
     "metadata": {},
     "output_type": "execute_result"
    },
    {
     "data": {
      "image/png": "[encoded data removed]",
      "text/plain": [
       "<Figure size 432x288 with 1 Axes>"
      ]
     },
     "metadata": {
      "needs_background": "light"
     },
     "output_type": "display_data"
    }
   ],
   "source": [
    "plt.plot(t_list1, x_list1, 'b', label=\"Forward Euler\")\n",
    "plt.plot(t_list2, x_list2, 'y', label=\"Backward Euler\")\n",
    "plt.legend()"
   ]
  },
  {
   "cell_type": "markdown",
   "metadata": {},
   "source": [
    "To estimate the diference between both methods"
   ]
  },
  {
   "cell_type": "code",
   "execution_count": 6,
   "metadata": {},
   "outputs": [],
   "source": [
    "x_array1 = np.array(x_list1)\n",
    "x_array2 = np.array(x_list2)\n",
    "\n",
    "error = x_array1 - x_array2"
   ]
  },
  {
   "cell_type": "code",
   "execution_count": 7,
   "metadata": {},
   "outputs": [
    {
     "data": {
      "text/plain": [
       "0.0"
      ]
     },
     "execution_count": 7,
     "metadata": {},
     "output_type": "execute_result"
    }
   ],
   "source": [
    "np.linalg.norm(error)"
   ]
  }
 ],
 "metadata": {
  "kernelspec": {
   "display_name": "Python 3",
   "language": "python",
   "name": "python3"
  },
  "language_info": {
   "codemirror_mode": {
    "name": "ipython",
    "version": 3
   },
   "file_extension": ".py",
   "mimetype": "text/x-python",
   "name": "python",
   "nbconvert_exporter": "python",
   "pygments_lexer": "ipython3",
   "version": "3.7.4"
  }
 },
 "nbformat": 4,
 "nbformat_minor": 2
}
