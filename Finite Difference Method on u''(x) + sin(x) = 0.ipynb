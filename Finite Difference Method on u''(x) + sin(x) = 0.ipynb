{
 "cells": [
  {
   "cell_type": "markdown",
   "metadata": {},
   "source": [
    "I have numerically solved for $ u(x) $ as a function of $ x $ for the equation $ \\frac{d^2}{dx^2}u(x) + sin(x) = 0 $"
   ]
  },
  {
   "cell_type": "code",
   "execution_count": 1,
   "metadata": {},
   "outputs": [],
   "source": [
    "from pylab import *\n",
    "import numpy as np\n",
    "import matplotlib.pyplot as plt\n",
    "%matplotlib inline"
   ]
  },
  {
   "cell_type": "code",
   "execution_count": 2,
   "metadata": {},
   "outputs": [],
   "source": [
    "# first generate the matrix containing values of x in [0,1] #\n",
    "\n",
    "n_divisions = 100 # number of divisions of [0,1]\n",
    "h = 1/n_divisions # spacial separation between consecutive divisions\n",
    "x_matrix = np.zeros(n_divisions-1)\n",
    "for i in range(n_divisions-1):\n",
    "    x_matrix[i] = 1*(i+1)/n_divisions"
   ]
  },
  {
   "cell_type": "code",
   "execution_count": 3,
   "metadata": {},
   "outputs": [],
   "source": [
    "# generate the matrix containing the values of f(x) #\n",
    "\n",
    "fx_matrix = np.zeros((n_divisions-1,1), 'double')\n",
    "for i in range(n_divisions-1):\n",
    "    fx_matrix[i]=sin(x_matrix[i])\n",
    "\n",
    "#fx_matrix"
   ]
  },
  {
   "cell_type": "code",
   "execution_count": 4,
   "metadata": {},
   "outputs": [],
   "source": [
    "for i in range(1,n_divisions-1):\n",
    "    fx_matrix[i] += (fx_matrix[i-1])*i/(i+1)\n",
    "\n",
    "#fx_matrix"
   ]
  },
  {
   "cell_type": "code",
   "execution_count": 5,
   "metadata": {},
   "outputs": [],
   "source": [
    "for i in range(1,n_divisions-1):\n",
    "    fx_matrix[n_divisions-2-i] += (fx_matrix[n_divisions-1-i])*(n_divisions-i)/(n_divisions+1-i)\n",
    "    \n",
    "#fx_matrix"
   ]
  },
  {
   "cell_type": "code",
   "execution_count": 6,
   "metadata": {},
   "outputs": [],
   "source": [
    "# generate the matrix containing the values of u(x) #\n",
    "\n",
    "ux_matrix = np.zeros((n_divisions-1,1), 'double')\n",
    "\n",
    "for i in range(n_divisions-1):\n",
    "    ux_matrix[i] = h*h*fx_matrix[i]*(i+1)/(i+2)"
   ]
  },
  {
   "cell_type": "code",
   "execution_count": 7,
   "metadata": {},
   "outputs": [
    {
     "data": {
      "text/plain": [
       "[<matplotlib.lines.Line2D at 0x7fe5944c8350>]"
      ]
     },
     "execution_count": 7,
     "metadata": {},
     "output_type": "execute_result"
    },
    {
     "data": {
      "image/png": "[encoded data removed]",
      "text/plain": [
       "<Figure size 432x288 with 1 Axes>"
      ]
     },
     "metadata": {
      "needs_background": "light"
     },
     "output_type": "display_data"
    }
   ],
   "source": [
    "# plot the numerical values of u(x) versus x #\n",
    "\n",
    "plt.plot(x_matrix,ux_matrix)"
   ]
  }
 ],
 "metadata": {
  "kernelspec": {
   "display_name": "Python 3",
   "language": "python",
   "name": "python3"
  },
  "language_info": {
   "codemirror_mode": {
    "name": "ipython",
    "version": 3
   },
   "file_extension": ".py",
   "mimetype": "text/x-python",
   "name": "python",
   "nbconvert_exporter": "python",
   "pygments_lexer": "ipython3",
   "version": "3.7.4"
  }
 },
 "nbformat": 4,
 "nbformat_minor": 2
}
