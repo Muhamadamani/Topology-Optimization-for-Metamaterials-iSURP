{
 "cells": [
  {
   "cell_type": "markdown",
   "metadata": {},
   "source": [
    "I have numerically solved for $ u(x) $ as a function of $ x $ for the equation $ \\frac{d^2}{dx^2}u(x) + f(x) = 0 $ .Boundary conditions: $ x{\\epsilon}[a,b] ;$ $ u(a)=u_a $; $u(b)=u_b$ where f is any function."
   ]
  },
  {
   "cell_type": "code",
   "execution_count": null,
   "metadata": {},
   "outputs": [],
   "source": [
    "from pylab import *\n",
    "import numpy as np\n",
    "import matplotlib.pyplot as plt\n",
    "%matplotlib inline"
   ]
  },
  {
   "cell_type": "code",
   "execution_count": null,
   "metadata": {},
   "outputs": [],
   "source": [
    "# first generate the matrix containing values of x in [a,b] #\n",
    "\n",
    "print(\"a=\")\n",
    "a = float(input()) \n",
    "print(\"b=\")\n",
    "b = float(input())\n",
    "print(\"ua=\")\n",
    "ua = float(input()) # u(a)\n",
    "print(\"ub=\")\n",
    "ub = float(input()) # u(b)\n",
    "\n",
    "print(\"Please enter the value of h. Note: Preferably 0.10 ,the program might be slow for very small h\")\n",
    "h0 = float(input()) # spacial separation between consecutive divisions\n",
    "n_divisions = int((b-a)/h0) # number of divisions of [0,1]\n",
    "h = (b-a)/n_divisions\n",
    "\n",
    "x_matrix = np.zeros(n_divisions-1)\n",
    "for i in range(n_divisions-1):\n",
    "    x_matrix[i] = a + (b-a)*(i+1)/n_divisions\n",
    "#x_matrix"
   ]
  },
  {
   "cell_type": "code",
   "execution_count": null,
   "metadata": {},
   "outputs": [],
   "source": [
    "## PLEASE ENTER THE FUNCTION f HERE\n",
    "\n",
    "def f(x):\n",
    "    return .... # this can be any function in general"
   ]
  },
  {
   "cell_type": "code",
   "execution_count": null,
   "metadata": {},
   "outputs": [],
   "source": [
    "# generate the matrix containing the values of f(x) #\n",
    "\n",
    "fx_matrix = np.zeros((n_divisions-1,1), 'double')\n",
    "for i in range(n_divisions-1):\n",
    "    fx_matrix[i]=f(x_matrix[i])\n",
    "fx_matrix[0] += ua/(h*h)\n",
    "fx_matrix[-1] += ub/(h*h)\n",
    "#fx_matrix"
   ]
  },
  {
   "cell_type": "code",
   "execution_count": null,
   "metadata": {},
   "outputs": [],
   "source": [
    "# generate the matrix A\n",
    "\n",
    "A = np.zeros((n_divisions-1,n_divisions-1))\n",
    "for i in range(1,n_divisions-2):\n",
    "    A[i,i] = -2/(h*h)\n",
    "    A[i,i-1] = 1/(h*h)\n",
    "    A[i, i+1] = 1/(h*h)\n",
    "A[0, 0] = -2/(h*h)\n",
    "A[0, 1] = 1/(h*h)\n",
    "A[-1, -1] = -2/(h*h)\n",
    "A[-1, -2] = 1/(h*h)"
   ]
  },
  {
   "cell_type": "code",
   "execution_count": null,
   "metadata": {},
   "outputs": [],
   "source": [
    "# Finally solve the System AU=-F\n",
    "\n",
    "u_matrix = np.linalg.solve(A,-fx_matrix)\n",
    "plt.plot(x_matrix, u_matrix)"
   ]
  }
 ],
 "metadata": {
  "kernelspec": {
   "display_name": "Python 3",
   "language": "python",
   "name": "python3"
  },
  "language_info": {
   "codemirror_mode": {
    "name": "ipython",
    "version": 3
   },
   "file_extension": ".py",
   "mimetype": "text/x-python",
   "name": "python",
   "nbconvert_exporter": "python",
   "pygments_lexer": "ipython3",
   "version": "3.7.4"
  }
 },
 "nbformat": 4,
 "nbformat_minor": 2
}
